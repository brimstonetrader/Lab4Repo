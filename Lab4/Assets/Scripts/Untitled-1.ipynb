{
 "cells": [
  {
   "cell_type": "code",
   "execution_count": 2,
   "metadata": {},
   "outputs": [],
   "source": [
    "def framer(n): \n",
    "\n",
    "  # n is the side length of the grid._We want \n",
    "  # to make a frame that looks like | , which\n",
    "  # has a size of 2n - 1. \n",
    "\n",
    "    edge = []\n",
    "\n",
    "\n",
    "\n",
    "    for i in range(2 ** (2*(n - 1))):\n",
    "        bitstringofi = bin(i)[2:]\n",
    "\n",
    "# This iterates through every number from 0 to \n",
    "# 2^(2n-2) in binary. This is still 1-dimensional,\n",
    "# despite it being a bit long.\n",
    "\n",
    "        while len(bitstringofi) < (2*(n-1)):\n",
    "            bitstringofi = \"0\" + bitstringofi\n",
    "        frame = [1]\n",
    "        for j in range((2*n)-2):\n",
    "            if bitstringofi[j] == \"0\":\n",
    "                frame.append(frame[-1])\n",
    "\n",
    "# If zero, lawn.\n",
    "\n",
    "            else:\n",
    "                frame.append(frame[-1] + 1)\n",
    "\n",
    "# If one, wall\n",
    "\n",
    "        edge.append(frame)\n",
    "    return(edge)\n",
    "\n",
    "# framer(3) = \n",
    "# [[1, 1, 1, 1, 1], [1, 1, 1, 1, 2], [1, 1, 1, 2, 2], [1, 1, 1, 2, 3], \n",
    "# [1, 1, 2, 2, 2], [1, 1, 2, 2, 3], [1, 1, 2, 3, 3], [1, 1, 2, 3, 4], \n",
    "# [1, 2, 2, 2, 2], [1, 2, 2, 2, 3], [1, 2, 2, 3, 3], [1, 2, 2, 3, 4], \n",
    "# [1, 2, 3, 3, 3], [1, 2, 3, 3, 4], [1, 2, 3, 4, 4], [1, 2, 3, 4, 5]]"
   ]
  },
  {
   "cell_type": "code",
   "execution_count": 8,
   "metadata": {},
   "outputs": [
    {
     "data": {
      "text/plain": [
       "[[1, 1, 1, 1, 1],\n",
       " [1, 1, 1, 1, 2],\n",
       " [1, 1, 1, 2, 2],\n",
       " [1, 1, 1, 2, 3],\n",
       " [1, 1, 2, 2, 2],\n",
       " [1, 1, 2, 2, 3],\n",
       " [1, 1, 2, 3, 3],\n",
       " [1, 1, 2, 3, 4],\n",
       " [1, 2, 2, 2, 2],\n",
       " [1, 2, 2, 2, 3],\n",
       " [1, 2, 2, 3, 3],\n",
       " [1, 2, 2, 3, 4],\n",
       " [1, 2, 3, 3, 3],\n",
       " [1, 2, 3, 3, 4],\n",
       " [1, 2, 3, 4, 4],\n",
       " [1, 2, 3, 4, 5]]"
      ]
     },
     "execution_count": 8,
     "metadata": {},
     "output_type": "execute_result"
    }
   ],
   "source": [
    "framer(3)"
   ]
  },
  {
   "cell_type": "code",
   "execution_count": 10,
   "metadata": {},
   "outputs": [],
   "source": [
    "def se(nw, ne, sw):\n",
    "    if (nw == ne) and (ne == sw):\n",
    "        return([[nw, ne, sw, nw], [nw, ne, sw, (nw+1)]])\n",
    "\n",
    "# ____  ____\n",
    "#|   | |  _|\n",
    "#|___| |_|_|\n",
    "\n",
    "    if (nw == ne) or (ne == sw):\n",
    "        return([[nw, ne, sw, ne], [nw, ne, sw, sw], [nw, ne, sw, (max([ne, sw]) + 1)]])\n",
    "\n",
    "# ____  ____  ____  ____  ____  ____\n",
    "#| | | | | | | | | |_  | |_  | |_  |  \n",
    "#|___| |___| |___| |_|_| |___| |___| \n",
    "\n",
    "    else: \n",
    "        return([[nw, ne, sw, ne], [nw, ne, sw, sw], 0, [nw, ne, sw, (max([ne, sw]) + 1)]])\n",
    "    "
   ]
  },
  {
   "cell_type": "code",
   "execution_count": 11,
   "metadata": {},
   "outputs": [],
   "source": [
    "def merge(gridsofar, ne, sw):\n",
    "    mn = min(ne, sw)\n",
    "    mx = max(ne, sw)\n",
    "    newgrid = []\n",
    "    for i in gridsofar:\n",
    "        if gridsofar[i] == mx:\n",
    "            newgrid.append(mn)\n",
    "        else:\n",
    "            newgrid.append(mx)\n",
    "        \n",
    "    \n"
   ]
  },
  {
   "cell_type": "markdown",
   "metadata": {},
   "source": []
  },
  {
   "cell_type": "code",
   "execution_count": 5,
   "metadata": {},
   "outputs": [],
   "source": [
    "def partition_counter(n):\n",
    "\n",
    "\n",
    "    partitions = framer(n)\n",
    "    dummy = [[]]\n",
    "    for k in range(len(partitions)):\n",
    "        grid = partitions[k]\n",
    "        twonminus1 = se(partitions[k][n-1], partitions[k][n], partitions[k][n-2])\n",
    "        for i in range(len(twonminus1)):\n",
    "            dummy += grid.append(twonminus1[i])\n",
    "    partitions = dummy\n",
    "    return(partitions)\n",
    "  "
   ]
  },
  {
   "cell_type": "code",
   "execution_count": 7,
   "metadata": {},
   "outputs": [
    {
     "ename": "TypeError",
     "evalue": "'NoneType' object is not iterable",
     "output_type": "error",
     "traceback": [
      "\u001b[1;31m---------------------------------------------------------------------------\u001b[0m",
      "\u001b[1;31mTypeError\u001b[0m                                 Traceback (most recent call last)",
      "\u001b[1;32m~\\AppData\\Local\\Temp\\ipykernel_3252\\2981373108.py\u001b[0m in \u001b[0;36m<module>\u001b[1;34m\u001b[0m\n\u001b[1;32m----> 1\u001b[1;33m \u001b[0mpartition_counter\u001b[0m\u001b[1;33m(\u001b[0m\u001b[1;36m3\u001b[0m\u001b[1;33m)\u001b[0m\u001b[1;33m\u001b[0m\u001b[1;33m\u001b[0m\u001b[0m\n\u001b[0m",
      "\u001b[1;32m~\\AppData\\Local\\Temp\\ipykernel_3252\\4186378966.py\u001b[0m in \u001b[0;36mpartition_counter\u001b[1;34m(n)\u001b[0m\n\u001b[0;32m      5\u001b[0m     \u001b[0mdummy\u001b[0m \u001b[1;33m=\u001b[0m \u001b[1;33m[\u001b[0m\u001b[1;33m[\u001b[0m\u001b[1;33m]\u001b[0m\u001b[1;33m]\u001b[0m\u001b[1;33m\u001b[0m\u001b[1;33m\u001b[0m\u001b[0m\n\u001b[0;32m      6\u001b[0m     \u001b[1;32mfor\u001b[0m \u001b[0mk\u001b[0m \u001b[1;32min\u001b[0m \u001b[0mrange\u001b[0m\u001b[1;33m(\u001b[0m\u001b[0mlen\u001b[0m\u001b[1;33m(\u001b[0m\u001b[0mpartitions\u001b[0m\u001b[1;33m)\u001b[0m\u001b[1;33m)\u001b[0m\u001b[1;33m:\u001b[0m\u001b[1;33m\u001b[0m\u001b[1;33m\u001b[0m\u001b[0m\n\u001b[1;32m----> 7\u001b[1;33m         \u001b[0mdummy\u001b[0m \u001b[1;33m+=\u001b[0m \u001b[0mpartitions\u001b[0m\u001b[1;33m[\u001b[0m\u001b[0mk\u001b[0m\u001b[1;33m]\u001b[0m\u001b[1;33m.\u001b[0m\u001b[0mappend\u001b[0m\u001b[1;33m(\u001b[0m\u001b[0mse\u001b[0m\u001b[1;33m(\u001b[0m\u001b[0mpartitions\u001b[0m\u001b[1;33m[\u001b[0m\u001b[0mk\u001b[0m\u001b[1;33m]\u001b[0m\u001b[1;33m[\u001b[0m\u001b[0mn\u001b[0m\u001b[1;33m-\u001b[0m\u001b[1;36m1\u001b[0m\u001b[1;33m]\u001b[0m\u001b[1;33m,\u001b[0m \u001b[0mpartitions\u001b[0m\u001b[1;33m[\u001b[0m\u001b[0mk\u001b[0m\u001b[1;33m]\u001b[0m\u001b[1;33m[\u001b[0m\u001b[0mn\u001b[0m\u001b[1;33m]\u001b[0m\u001b[1;33m,\u001b[0m \u001b[0mpartitions\u001b[0m\u001b[1;33m[\u001b[0m\u001b[0mk\u001b[0m\u001b[1;33m]\u001b[0m\u001b[1;33m[\u001b[0m\u001b[0mn\u001b[0m\u001b[1;33m-\u001b[0m\u001b[1;36m2\u001b[0m\u001b[1;33m]\u001b[0m\u001b[1;33m)\u001b[0m\u001b[1;33m)\u001b[0m\u001b[1;33m\u001b[0m\u001b[1;33m\u001b[0m\u001b[0m\n\u001b[0m\u001b[0;32m      8\u001b[0m     \u001b[0mpartitions\u001b[0m \u001b[1;33m=\u001b[0m \u001b[0mdummy\u001b[0m\u001b[1;33m\u001b[0m\u001b[1;33m\u001b[0m\u001b[0m\n\u001b[0;32m      9\u001b[0m     \u001b[0mprint\u001b[0m\u001b[1;33m(\u001b[0m\u001b[0mpartitions\u001b[0m\u001b[1;33m)\u001b[0m\u001b[1;33m\u001b[0m\u001b[1;33m\u001b[0m\u001b[0m\n",
      "\u001b[1;31mTypeError\u001b[0m: 'NoneType' object is not iterable"
     ]
    }
   ],
   "source": [
    "partition_counter(3)"
   ]
  },
  {
   "cell_type": "code",
   "execution_count": null,
   "metadata": {},
   "outputs": [],
   "source": []
  },
  {
   "cell_type": "code",
   "execution_count": null,
   "metadata": {},
   "outputs": [],
   "source": []
  },
  {
   "cell_type": "code",
   "execution_count": null,
   "metadata": {},
   "outputs": [],
   "source": []
  },
  {
   "cell_type": "code",
   "execution_count": null,
   "metadata": {},
   "outputs": [],
   "source": []
  },
  {
   "cell_type": "code",
   "execution_count": null,
   "metadata": {},
   "outputs": [],
   "source": []
  },
  {
   "cell_type": "code",
   "execution_count": null,
   "metadata": {},
   "outputs": [],
   "source": []
  },
  {
   "cell_type": "code",
   "execution_count": null,
   "metadata": {},
   "outputs": [],
   "source": [
    "  for i in range(n-2):\n",
    "        dummy = []\n",
    "        for k in range(len(partitions)):\n",
    "            dummy += partitions[k] se(partitions[k][n+i], partitions[k][n+i+1], partitions[k][-1]))\n",
    "        partitions = dummy\n",
    "    for i in range(n-2):\n",
    "        dummy = []\n",
    "        for k in range(len(partitions)):\n",
    "            dummy += partitions[k].append(se(partitions[k][n-i-2], partitions[k][n-i-1], partitions[k][-(n-1)]))\n",
    "        partitions = dummy\n",
    "        for i in range(n-2):\n",
    "            dummy = []\n",
    "            for k in range(len(partitions)):\n",
    "                dummy += partitions[k].append(se(partitions[k][-n], partitions[k][-(n-1)], partitions[k][-1]))\n",
    "            partitions = dummy\n",
    "    print(len(partitions))\n",
    "\n",
    "\n",
    "\n",
    "\n"
   ]
  }
 ],
 "metadata": {
  "kernelspec": {
   "display_name": "base",
   "language": "python",
   "name": "python3"
  },
  "language_info": {
   "codemirror_mode": {
    "name": "ipython",
    "version": 3
   },
   "file_extension": ".py",
   "mimetype": "text/x-python",
   "name": "python",
   "nbconvert_exporter": "python",
   "pygments_lexer": "ipython3",
   "version": "3.9.13"
  },
  "orig_nbformat": 4,
  "vscode": {
   "interpreter": {
    "hash": "5c62b351a14d32baee4eba8d762783c59002ef8db8f5454f4e9fa5476587f03a"
   }
  }
 },
 "nbformat": 4,
 "nbformat_minor": 2
}
